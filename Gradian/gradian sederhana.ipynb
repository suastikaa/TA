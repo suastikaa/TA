{
 "cells": [
  {
   "cell_type": "code",
   "execution_count": 4,
   "metadata": {},
   "outputs": [
    {
     "name": "stdout",
     "output_type": "stream",
     "text": [
      "gradien: 0.5\n"
     ]
    },
    {
     "data": {
      "image/png": "[encoded data removed]",
      "text/plain": [
       "<Figure size 432x288 with 1 Axes>"
      ]
     },
     "metadata": {
      "needs_background": "light"
     },
     "output_type": "display_data"
    }
   ],
   "source": [
    "import matplotlib.pyplot as plt\n",
    "import numpy as np\n",
    "\n",
    "x1 = 2.0\n",
    "y1 = 3.0\n",
    "\n",
    "x2 = 6.0\n",
    "y2 = 5.0\n",
    "\n",
    "a = (y2 - y1) / (x2 - x1)\n",
    "b = y1 - a * x1\n",
    "print ('gradien:',a)\n",
    "\n",
    "x = np.linspace(0, 8, 100)\n",
    "y = a * x + b\n",
    "\n",
    "plt.scatter([x1,x2],[y1,y2], color='gray')\n",
    "\n",
    "plt.plot(x,y,linestyle='--')\n",
    "\n",
    "plt.title(\"DIAGRAM KARTESIUS\", fontsize=10)\n",
    "plt.xlabel('x',fontsize=8)\n",
    "plt.ylabel('y',fontsize=8)\n",
    "\n",
    "plt.xlim(0,8)\n",
    "plt.ylim(0,8)\n",
    "\n",
    "plt.grid()\n",
    "\n",
    "plt.savefig(\"calculate_line_slope_and_intercept.png\")\n",
    "plt.show()"
   ]
  },
  {
   "cell_type": "code",
   "execution_count": null,
   "metadata": {},
   "outputs": [],
   "source": [
    "      "
   ]
  },
  {
   "cell_type": "code",
   "execution_count": null,
   "metadata": {},
   "outputs": [],
   "source": []
  }
 ],
 "metadata": {
  "kernelspec": {
   "display_name": "Python 3",
   "language": "python",
   "name": "python3"
  },
  "language_info": {
   "codemirror_mode": {
    "name": "ipython",
    "version": 3
   },
   "file_extension": ".py",
   "mimetype": "text/x-python",
   "name": "python",
   "nbconvert_exporter": "python",
   "pygments_lexer": "ipython3",
   "version": "3.8.3"
  }
 },
 "nbformat": 4,
 "nbformat_minor": 4
}
