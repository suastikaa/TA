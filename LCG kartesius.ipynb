{
 "cells": [
  {
   "cell_type": "code",
   "execution_count": 8,
   "metadata": {},
   "outputs": [
    {
     "name": "stdout",
     "output_type": "stream",
     "text": [
      "[[8, 5], [11, 0], [10, 4], [5, 8], [12, 3]]\n"
     ]
    },
    {
     "data": {
      "image/png": "[encoded data removed]",
      "text/plain": [
       "<Figure size 432x288 with 1 Axes>"
      ]
     },
     "metadata": {
      "needs_background": "light"
     },
     "output_type": "display_data"
    }
   ],
   "source": [
    "import matplotlib.pyplot as plt\n",
    "coordinates=[]\n",
    "temp=[]\n",
    "\n",
    "def x(nilai):\n",
    "    global xo\n",
    "    xo = nilai\n",
    "    \n",
    "def y(initVal):\n",
    "    global yo\n",
    "    yo = initVal\n",
    "    \n",
    "def lcgx():\n",
    "    a = 21 \n",
    "    c = 3 \n",
    "    m = 16\n",
    "    global xo\n",
    "    xo = (a*xo + c) % m\n",
    "    return xo\n",
    "\n",
    "x(1)\n",
    "\n",
    "def lcgy():\n",
    "    a = 1\n",
    "    c = 4\n",
    "    m = 9\n",
    "    global yo\n",
    "    yo = (a*yo + c) % m\n",
    "    return yo\n",
    "\n",
    "y(1)\n",
    "\n",
    "for i in range(5):\n",
    "    xx = lcgx()\n",
    "    yy = lcgy()\n",
    "    temp=[]\n",
    "    temp.append(xx)\n",
    "    temp.append(yy)\n",
    "    coordinates.append(temp)\n",
    "    #print(xx , yy)\n",
    "    plt.title('Diagram Kartesius api')\n",
    "    plt.scatter(xx, yy, color=\"darkblue\", marker='x')\n",
    "\n",
    "print (coordinates)\n",
    "plt.grid(True)\n",
    "plt.show()"
   ]
  },
  {
   "cell_type": "code",
   "execution_count": 6,
   "metadata": {},
   "outputs": [
    {
     "name": "stdout",
     "output_type": "stream",
     "text": [
      "[[313, 288], [268, 869], [861, 759], [54, 690], [410, 130], [64, 231], [721, 594], [515, 265], [328, 34], [735, 241]]\n"
     ]
    }
   ],
   "source": [
    " "
   ]
  },
  {
   "cell_type": "code",
   "execution_count": 4,
   "metadata": {},
   "outputs": [
    {
     "name": "stdout",
     "output_type": "stream",
     "text": [
      "2\n",
      "9\n",
      "[[0, 0, 0, 0, 0, 0, 0, 0, 0], [0, 0, 0, 0, 0, 0, 0, 0, 0]]\n"
     ]
    }
   ],
   "source": [
    " "
   ]
  },
  {
   "cell_type": "code",
   "execution_count": null,
   "metadata": {},
   "outputs": [],
   "source": []
  }
 ],
 "metadata": {
  "kernelspec": {
   "display_name": "Python 3",
   "language": "python",
   "name": "python3"
  },
  "language_info": {
   "codemirror_mode": {
    "name": "ipython",
    "version": 3
   },
   "file_extension": ".py",
   "mimetype": "text/x-python",
   "name": "python",
   "nbconvert_exporter": "python",
   "pygments_lexer": "ipython3",
   "version": "3.8.3"
  }
 },
 "nbformat": 4,
 "nbformat_minor": 4
}
